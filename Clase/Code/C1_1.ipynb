{
 "cells": [
  {
   "cell_type": "markdown",
   "id": "e715b72b-b355-487b-aaab-d329f764cfdd",
   "metadata": {},
   "source": [
    "<center style=\"font-size: 2em; font-weight: bold;\"> Microeconomia con Python </center>\n",
    "<center style=\"font-size: 2em; font-weight: bold;\"> Clase modelo: funcion de utilidad y optimización </center>\n",
    "<left style=\"font-size: 2em; font-weight: bold;\"> Autor: Edinson Tolentino </left>"
   ]
  },
  {
   "cell_type": "code",
   "execution_count": null,
   "id": "4febfc6b-6772-48b1-bafa-fe9d5d7866e6",
   "metadata": {},
   "outputs": [],
   "source": []
  },
  {
   "cell_type": "markdown",
   "id": "4cc61003-9834-4836-ab60-34d5192ca6d2",
   "metadata": {},
   "source": [
    "# La función de utilidad: utilidad marginal, tasa marginal de sustitucion"
   ]
  },
  {
   "cell_type": "markdown",
   "id": "cc7fedfb-0b84-4b1a-8d57-1167f7fd608c",
   "metadata": {},
   "source": [
    "## Ejemplo 1"
   ]
  },
  {
   "cell_type": "markdown",
   "id": "8cf1f6bd-9659-4e71-8e5c-54af291a3a1e",
   "metadata": {},
   "source": [
    "Analisis en **Python** sobre las caracteristicas de la función de utilidad\n",
    "\n",
    "$$\n",
    "U= \\sqrt{xy}\n",
    "$$\n",
    "\n",
    "- Responda las siguientes preguntas:\n",
    "    - Determine la utilidad marginal del bien x\n",
    "    - Determine la utilidad marginal del bien y\n",
    "    - Determine la tasa marginal de sustitución\n",
    "\n",
    "- Genera un código que permita generar una función para medir la tasa marginal de una función de utilidad.\n"
   ]
  },
  {
   "cell_type": "markdown",
   "id": "d5c4fc42-5c3d-4bc3-9ecf-660433e75308",
   "metadata": {},
   "source": [
    "## Solucion "
   ]
  },
  {
   "cell_type": "code",
   "execution_count": 1,
   "id": "ca63bde2-0e21-4130-8fe4-ca4944b084f4",
   "metadata": {},
   "outputs": [],
   "source": [
    "# Definios la liberia\n",
    "import numpy as np\n",
    "import sympy as sy\n",
    "sy.init_printing()\n",
    "\n",
    "# Deifnicion de las variables \"x\", \"y\"\n",
    "x=sy.symbols(\"x\")\n",
    "y=sy.symbols(\"y\")\n"
   ]
  },
  {
   "cell_type": "code",
   "execution_count": 2,
   "id": "f1619bf3-4b98-4a29-9936-7b7bbf78045d",
   "metadata": {},
   "outputs": [
    {
     "data": {
      "image/png": "[encoded data removed]",
      "text/latex": [
       "$\\displaystyle \\sqrt{x y}$"
      ],
      "text/plain": [
       "  _____\n",
       "╲╱ x⋅y "
      ]
     },
     "execution_count": 2,
     "metadata": {},
     "output_type": "execute_result"
    }
   ],
   "source": [
    "# Definimos la utilidad \n",
    "U = sy.sqrt(x*y)\n",
    "U"
   ]
  },
  {
   "cell_type": "code",
   "execution_count": 3,
   "id": "6c8c6f16-4b33-468e-b3fb-6e9e184b138e",
   "metadata": {},
   "outputs": [
    {
     "data": {
      "image/png": "[encoded data removed]",
      "text/latex": [
       "$\\displaystyle \\frac{\\sqrt{x y}}{2 x}$"
      ],
      "text/plain": [
       "  _____\n",
       "╲╱ x⋅y \n",
       "───────\n",
       "  2⋅x  "
      ]
     },
     "execution_count": 3,
     "metadata": {},
     "output_type": "execute_result"
    }
   ],
   "source": [
    "# Encontramos la utilidad marginal respecot al bien x\n",
    "UMx=U.diff(x)\n",
    "UMx"
   ]
  },
  {
   "cell_type": "code",
   "execution_count": 4,
   "id": "c0f93c30-df10-4188-b443-6695fa16a284",
   "metadata": {},
   "outputs": [
    {
     "data": {
      "image/png": "[encoded data removed]",
      "text/latex": [
       "$\\displaystyle \\frac{\\sqrt{x y}}{2 x}$"
      ],
      "text/plain": [
       "  _____\n",
       "╲╱ x⋅y \n",
       "───────\n",
       "  2⋅x  "
      ]
     },
     "execution_count": 4,
     "metadata": {},
     "output_type": "execute_result"
    }
   ],
   "source": [
    "# Encontramos la utilidad marginal respecot al bien y\n",
    "UMy=U.diff(x)\n",
    "UMy"
   ]
  },
  {
   "cell_type": "code",
   "execution_count": 5,
   "id": "a434a2e9-d7a9-4d89-a5ac-48ccdabc7fd7",
   "metadata": {},
   "outputs": [
    {
     "data": {
      "image/png": "[encoded data removed]",
      "text/latex": [
       "$\\displaystyle 1$"
      ],
      "text/plain": [
       "1"
      ]
     },
     "execution_count": 5,
     "metadata": {},
     "output_type": "execute_result"
    }
   ],
   "source": [
    "# Calculamos la tasa marginal de sustitucion\n",
    "TMS= UMx / UMy\n",
    "TMS"
   ]
  },
  {
   "cell_type": "markdown",
   "id": "bbfa8a2f-53cf-49e5-91bb-5c841bcdc515",
   "metadata": {},
   "source": [
    "## Ejemplo 2"
   ]
  },
  {
   "cell_type": "markdown",
   "id": "06686b79-2806-4181-b849-e7c2c11b2cd1",
   "metadata": {},
   "source": [
    "En el 2008, un joven consumidor (14 a 24 años) compra 24 unidades de pistas de musica ,$q_{1}$, por trimestre, ademas asiste (consume) a 18  eventos de musica ,$q_{2}$, por trimestre. Su estimado de función de utilidad puede ser representado a trvés de la Cobb-Douglas:\n",
    "\n",
    "$$\n",
    "U=q^{0.4}_{1}q^{0.6}_{2}\n",
    "$$\n",
    "\n",
    "- Utilice el programa **python** para poder resolver el ejercicio\n"
   ]
  },
  {
   "cell_type": "markdown",
   "id": "81cd2557-f93d-43de-b54e-9d0beff7e51c",
   "metadata": {},
   "source": [
    "## Solucion"
   ]
  },
  {
   "cell_type": "code",
   "execution_count": 6,
   "id": "5fbdb228-6c37-48bb-939b-0827a1eb07af",
   "metadata": {},
   "outputs": [],
   "source": [
    "# Definios la liberia\n",
    "import numpy as np\n",
    "import sympy as sy\n",
    "sy.init_printing()\n",
    "\n",
    "# Deifnicion de las variables \"q1\", \"q2\"\n",
    "q1=sy.symbols(\"q1\")\n",
    "q2=sy.symbols(\"q2\")"
   ]
  },
  {
   "cell_type": "code",
   "execution_count": 7,
   "id": "a5f61247-7bb4-4f95-bf9f-575d7c020e26",
   "metadata": {},
   "outputs": [
    {
     "data": {
      "image/png": "[encoded data removed]",
      "text/latex": [
       "$\\displaystyle q_{1}^{0.4} q_{2}^{0.6}$"
      ],
      "text/plain": [
       "  0.4   0.6\n",
       "q₁   ⋅q₂   "
      ]
     },
     "execution_count": 7,
     "metadata": {},
     "output_type": "execute_result"
    }
   ],
   "source": [
    "# Definimos la utilidad \n",
    "U = q1**(0.4)*q2**(0.6)\n",
    "U"
   ]
  },
  {
   "cell_type": "code",
   "execution_count": 8,
   "id": "6537364d-ba88-44bc-a867-9d713c8a7a25",
   "metadata": {},
   "outputs": [
    {
     "data": {
      "image/png": "[encoded data removed]",
      "text/latex": [
       "$\\displaystyle \\frac{0.4 q_{2}^{0.6}}{q_{1}^{0.6}}$"
      ],
      "text/plain": [
       "      -0.6   0.6\n",
       "0.4⋅q₁    ⋅q₂   "
      ]
     },
     "execution_count": 8,
     "metadata": {},
     "output_type": "execute_result"
    }
   ],
   "source": [
    "# Encontramos la utilidad marginal respecot al bien x\n",
    "UMq1=U.diff(q1)\n",
    "UMq1"
   ]
  },
  {
   "cell_type": "code",
   "execution_count": 9,
   "id": "9fd34302-cc23-44df-af82-266c8f2355cf",
   "metadata": {},
   "outputs": [
    {
     "data": {
      "image/png": "[encoded data removed]",
      "text/latex": [
       "$\\displaystyle \\frac{0.6 q_{1}^{0.4}}{q_{2}^{0.4}}$"
      ],
      "text/plain": [
       "      0.4   -0.4\n",
       "0.6⋅q₁   ⋅q₂    "
      ]
     },
     "execution_count": 9,
     "metadata": {},
     "output_type": "execute_result"
    }
   ],
   "source": [
    "# Encontramos la utilidad marginal respecot al bien x\n",
    "UMq2=U.diff(q2)\n",
    "UMq2"
   ]
  },
  {
   "cell_type": "code",
   "execution_count": 10,
   "id": "3e7bacd8-73bb-48f0-8766-0d2660f3e34e",
   "metadata": {},
   "outputs": [
    {
     "data": {
      "image/png": "[encoded data removed]",
      "text/latex": [
       "$\\displaystyle \\frac{0.666666666666667 q_{2}^{1.0}}{q_{1}^{1.0}}$"
      ],
      "text/plain": [
       "                    -1.0   1.0\n",
       "0.666666666666667⋅q₁    ⋅q₂   "
      ]
     },
     "execution_count": 10,
     "metadata": {},
     "output_type": "execute_result"
    }
   ],
   "source": [
    "# Tasa marginal de sustitucion\n",
    "TMS = UMq1 / UMq2\n",
    "TMS\n",
    "\n"
   ]
  },
  {
   "cell_type": "markdown",
   "id": "8499bd07-ab78-4cb7-91ee-199d3ea6c087",
   "metadata": {},
   "source": [
    "# Creacion de funciones"
   ]
  },
  {
   "cell_type": "code",
   "execution_count": 11,
   "id": "370f41f0-7923-4df1-90b6-4de18f1d4e99",
   "metadata": {},
   "outputs": [],
   "source": [
    "def Funcion_TMS(utilidad, bien1, bien2,valor1, valor2):\n",
    "    \"\"\" La presente funcion permite calcular la tasa marginal de sustitucion de una funcion de utilidad, se necesita:\n",
    "    a) el valor de la utilidad, \n",
    "    b) el bien 1, el bien 2, \n",
    "    c) el valor del bien 1, \n",
    "    d) elvalor del bien 2 \"\"\"\n",
    "    U1=utilidad.diff(bien1)\n",
    "    U2=utilidad.diff(bien2)\n",
    "    TMS=U1 / U2\n",
    "    resultado = TMS.subs({bien1:valor1, bien2:valor2})\n",
    "    return resultado"
   ]
  },
  {
   "cell_type": "code",
   "execution_count": 12,
   "id": "51d0a08b-9fbe-4f96-817a-216a5003b082",
   "metadata": {},
   "outputs": [
    {
     "name": "stdout",
     "output_type": "stream",
     "text": [
      "Help on function Funcion_TMS in module __main__:\n",
      "\n",
      "Funcion_TMS(utilidad, bien1, bien2, valor1, valor2)\n",
      "    La presente funcion permite calcular la tasa marginal de sustitucion de una funcion de utilidad, se necesita:\n",
      "    a) el valor de la utilidad, \n",
      "    b) el bien 1, el bien 2, \n",
      "    c) el valor del bien 1, \n",
      "    d) elvalor del bien 2\n",
      "\n"
     ]
    }
   ],
   "source": [
    "help(Funcion_TMS)"
   ]
  },
  {
   "cell_type": "code",
   "execution_count": 13,
   "id": "5899cffb-deab-4cb3-a6a6-5e74232ee040",
   "metadata": {},
   "outputs": [
    {
     "data": {
      "image/png": "[encoded data removed]",
      "text/latex": [
       "$\\displaystyle 0.5$"
      ],
      "text/plain": [
       "0.500000000000000"
      ]
     },
     "execution_count": 13,
     "metadata": {},
     "output_type": "execute_result"
    }
   ],
   "source": [
    "# Ejemplo 2\n",
    "# Definios la liberia\n",
    "import numpy as np\n",
    "import sympy as sy\n",
    "sy.init_printing()\n",
    "\n",
    "# Deifnicion de las variables \"q1\", \"q2\"\n",
    "q1=sy.symbols(\"q1\")\n",
    "q2=sy.symbols(\"q2\")\n",
    "\n",
    "# Definimos la utilidad \n",
    "U = q1**(0.4)*q2**(0.6)\n",
    "U\n",
    "\n",
    "Funcion_TMS(U,q1,q2,24,18)"
   ]
  },
  {
   "cell_type": "markdown",
   "id": "ea50b7da-8068-422a-9c7c-1472b9bbfc91",
   "metadata": {},
   "source": [
    "# Problema del consumidor"
   ]
  },
  {
   "cell_type": "markdown",
   "id": "98c2f5b9-6a72-426c-b9b6-013bcc490add",
   "metadata": {},
   "source": [
    "# Ejemplo"
   ]
  },
  {
   "cell_type": "markdown",
   "id": "a0d74f78-1a87-43e7-988f-4513cfc8ec4e",
   "metadata": {},
   "source": [
    "Eric compra comida (medida por $x$) y ropa (medida por $y$) y tiene una función de utilidad $U(x,y)=xy$. Ademas se tiene que el precio de la comida es $P_{x}=20$ y el precio de vestido es $P_{y}=40$, ademas de posee solo un ingreso de 800 (replique el ejercicio en **Python**)\n",
    "\n",
    "- Establesca la notación del problema del consumidor\n",
    "- Se le pide encontrar la solución del consumidor (demananda marshaliana) o la elección óptima \n"
   ]
  },
  {
   "cell_type": "markdown",
   "id": "934ea4ca-4782-4011-b573-06e788a7eff6",
   "metadata": {},
   "source": [
    "## Solucion"
   ]
  },
  {
   "cell_type": "code",
   "execution_count": 14,
   "id": "b6b588a4-d492-4425-b7e8-3ba8f2710118",
   "metadata": {},
   "outputs": [
    {
     "data": {
      "image/png": "[encoded data removed]",
      "text/latex": [
       "$\\displaystyle \\left\\{ X : 20.0, \\  Y : 10.0\\right\\}$"
      ],
      "text/plain": [
       "{X: 20.0, Y: 10.0}"
      ]
     },
     "execution_count": 14,
     "metadata": {},
     "output_type": "execute_result"
    }
   ],
   "source": [
    "from sympy import *\n",
    "X, Y =symbols('X,Y')\n",
    "# Definicion de la funcion de utilidad\n",
    "U= X*Y\n",
    "\n",
    "# Definicion de los precios e ingresos\n",
    "Px, Py, I = 20, 40, 800\n",
    "# Uso de ecuaciones: tasa marginal de sustitucion\n",
    "TMS = Eq(diff(U,X)/diff(U,Y), Px/Py)\n",
    "\n",
    "# Uso de recta presupuestaria\n",
    "RP = Eq(I, Px*X + Py*Y)\n",
    "\n",
    "# Solucion del problema\n",
    "solve((TMS, RP))"
   ]
  },
  {
   "cell_type": "code",
   "execution_count": 15,
   "id": "89d96430-db30-4b94-8015-88e1010daa30",
   "metadata": {},
   "outputs": [
    {
     "data": {
      "image/png": "[encoded data removed]",
      "text/plain": [
       "<Figure size 432x288 with 1 Axes>"
      ]
     },
     "metadata": {
      "needs_background": "light"
     },
     "output_type": "display_data"
    },
    {
     "data": {
      "text/plain": [
       "<sympy.plotting.plot.Plot at 0x7f0682856340>"
      ]
     },
     "execution_count": 15,
     "metadata": {},
     "output_type": "execute_result"
    }
   ],
   "source": [
    "# Grafico de solucion\n",
    "maxU=U.subs({X:20, Y:10})\n",
    "restriccion = (I-Px*X)/Py\n",
    "Curva = (maxU/(X))\n",
    "plot(restriccion, Curva, (X,0,100), ylim=(0,40), xlim=(0,60), xlabel='X', ylabel='Y')"
   ]
  },
  {
   "cell_type": "code",
   "execution_count": null,
   "id": "32dcea86-305a-46ad-90ca-d9bffbc4c32f",
   "metadata": {},
   "outputs": [],
   "source": []
  }
 ],
 "metadata": {
  "kernelspec": {
   "display_name": "anaconda-2022.05-py39",
   "language": "python",
   "name": "conda-env-anaconda-2022.05-py39-py"
  },
  "language_info": {
   "codemirror_mode": {
    "name": "ipython",
    "version": 3
   },
   "file_extension": ".py",
   "mimetype": "text/x-python",
   "name": "python",
   "nbconvert_exporter": "python",
   "pygments_lexer": "ipython3",
   "version": "3.9.12"
  },
  "toc-autonumbering": true
 },
 "nbformat": 4,
 "nbformat_minor": 5
}
